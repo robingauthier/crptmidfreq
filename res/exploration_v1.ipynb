{
 "cells": [
  {
   "cell_type": "code",
   "execution_count": null,
   "metadata": {},
   "outputs": [],
   "source": [
    "import pandas as pd\n",
    "import argparse\n",
    "import random\n",
    "import time\n",
    "import os\n",
    "import duckdb\n",
    "import matplotlib\n",
    "import seaborn as sns\n",
    "import matplotlib.pyplot as plt\n",
    "from scipy.cluster.hierarchy import linkage, dendrogram, leaves_list\n",
    "from sklearn.cluster import KMeans\n",
    "%matplotlib inline\n",
    "import sys\n",
    "sys.path.append(os.path.abspath(os.getcwd()+'/..'))\n",
    "\n",
    "from config_loc import get_data_db_folder\n",
    "from featurelib.lib_v1 import *\n",
    "\n",
    "con = duckdb.connect(os.path.join(get_data_db_folder(),\"my_database.db\"),read_only=True)\n",
    "\n",
    "g_folder = 'res_exploration_v1'"
   ]
  },
  {
   "cell_type": "code",
   "execution_count": null,
   "metadata": {},
   "outputs": [],
   "source": [
    "df=con.execute('SELECT close_time,dscode,close,volume,taker_buy_volume FROM klines;').df()"
   ]
  },
  {
   "cell_type": "code",
   "execution_count": null,
   "metadata": {},
   "outputs": [],
   "source": [
    "# we need to convert dscode to an integer \n",
    "df['dscode_str']=df['dscode'].copy()\n",
    "df['dscode']=pd.Categorical(df['dscode_str']).codes\n",
    "df['dtsi'] = df['close_time'].astype('int64')\n",
    "\n",
    "df.sort_values('close_time',ascending=True,inplace=True)\n",
    "\n",
    "featd={col: df[col].values for col in df.columns}"
   ]
  },
  {
   "cell_type": "code",
   "execution_count": null,
   "metadata": {},
   "outputs": [],
   "source": [
    "## adding returns\n",
    "featd,nfeats=perform_diff(featd=featd,feats=['close'],windows=[1],folder=g_folder,name='None')\n",
    "featd['tret']=np.divide(\n",
    "                featd[nfeats[0]],\n",
    "                featd['close'],\n",
    "                out=np.zeros_like(featd['close']),\n",
    "                where=~np.isclose(featd['close'], np.zeros_like(featd['close'])))\n",
    "\n",
    "\n",
    "## adding the weight ewm(volume)\n",
    "featd,nfeats=perform_ewm(featd=featd,feats=['volume'],windows=[1000],folder=g_folder,name='None')\n",
    "featd['wgt'] = featd[nfeats[0]]"
   ]
  },
  {
   "cell_type": "code",
   "execution_count": null,
   "metadata": {},
   "outputs": [],
   "source": [
    "dft = pd.DataFrame(featd)\n",
    "pdft=dft.pivot_table(index='close_time',columns='dscode_str',values='tret')\n",
    "corr_matrix = pdft.corr()"
   ]
  },
  {
   "cell_type": "code",
   "execution_count": null,
   "metadata": {},
   "outputs": [],
   "source": [
    "pdft[['BTCUSDT','ETHUSDT']].fillna(0.0).cumsum().plot()"
   ]
  },
  {
   "cell_type": "code",
   "execution_count": null,
   "metadata": {},
   "outputs": [],
   "source": [
    "pdft[['ARBUSDT','ETHUSDT']].fillna(0.0).cumsum().plot()"
   ]
  },
  {
   "cell_type": "code",
   "execution_count": null,
   "metadata": {},
   "outputs": [],
   "source": [
    "pdft[['DEGOUSDT','ETHUSDT']].fillna(0.0).cumsum().plot()"
   ]
  },
  {
   "cell_type": "code",
   "execution_count": null,
   "metadata": {},
   "outputs": [],
   "source": []
  },
  {
   "cell_type": "code",
   "execution_count": null,
   "metadata": {},
   "outputs": [],
   "source": [
    "# Compute the distance as 1 - correlation (absolute or raw value)\n",
    "# (Here we use 1 - corr; if you want absolute distance, you can use 1 - np.abs(corr))\n",
    "dist_matrix = 1 - corr_matrix.fillna(0.0)\n",
    "\n",
    "# Perform hierarchical clustering using 'average' linkage\n",
    "link = linkage(dist_matrix, method='average')\n",
    "# Determine the order of the leaves (i.e. reordering the matrix)\n",
    "order = leaves_list(link)\n",
    "\n",
    "# Reorder the correlation matrix and labels\n",
    "ordered_corr = corr_matrix.iloc[order, :].iloc[:, order]\n",
    "ordered_labels = ordered_corr.columns\n",
    "\n",
    "# Export the reordered correlation matrix to Excel\n",
    "excel_path = 'ordered_correlation_hierarchical.xlsx'\n",
    "ordered_corr.to_excel(excel_path, sheet_name='Hierarchical Order')\n",
    "print(f\"Reordered correlation matrix exported to {excel_path}\")\n"
   ]
  },
  {
   "cell_type": "code",
   "execution_count": null,
   "metadata": {},
   "outputs": [],
   "source": [
    "\n",
    "# Plot the heatmap\n",
    "plt.figure(figsize=(8, 6))\n",
    "plt.imshow(ordered_corr, cmap='coolwarm', interpolation='nearest')\n",
    "plt.colorbar()\n"
   ]
  },
  {
   "cell_type": "code",
   "execution_count": null,
   "metadata": {},
   "outputs": [],
   "source": [
    "\n",
    "\n"
   ]
  },
  {
   "cell_type": "code",
   "execution_count": null,
   "metadata": {},
   "outputs": [],
   "source": [
    "########################\n",
    "# 2. KMeans Clustering\n",
    "########################\n",
    "# Here we use k-means clustering on the columns of the correlation matrix.\n",
    "# The idea is to cluster similar variables together and then sort by cluster labels.\n",
    "# Note: You may need to adjust 'n_clusters' based on your data.\n",
    "n_clusters = 10\n",
    "# For clustering, we can use the correlation values or the distance\n",
    "# In this example, we cluster on the correlation matrix rows.\n",
    "kmeans = KMeans(n_clusters=n_clusters, random_state=42)\n",
    "# Fit on the correlation matrix (using the rows as features)\n",
    "clusters = kmeans.fit_predict(corr_matrix)\n",
    "\n",
    "# Create a DataFrame with cluster labels and variable names\n",
    "cluster_df = pd.DataFrame({'Variable': corr_matrix.columns, 'Cluster': clusters})\n",
    "# Sort by cluster (and optionally, within cluster, by the variable name or correlation profile)\n",
    "cluster_df = cluster_df.sort_values(by='Cluster')"
   ]
  },
  {
   "cell_type": "code",
   "execution_count": null,
   "metadata": {},
   "outputs": [],
   "source": []
  }
 ],
 "metadata": {
  "kernelspec": {
   "display_name": "base",
   "language": "python",
   "name": "python3"
  },
  "language_info": {
   "codemirror_mode": {
    "name": "ipython",
    "version": 3
   },
   "file_extension": ".py",
   "mimetype": "text/x-python",
   "name": "python",
   "nbconvert_exporter": "python",
   "pygments_lexer": "ipython3",
   "version": "3.11.10"
  }
 },
 "nbformat": 4,
 "nbformat_minor": 2
}
