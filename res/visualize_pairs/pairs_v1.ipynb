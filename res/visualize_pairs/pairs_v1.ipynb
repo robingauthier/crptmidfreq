{
 "cells": [
  {
   "cell_type": "code",
   "execution_count": null,
   "metadata": {},
   "outputs": [],
   "source": [
    "import pandas as pd\n",
    "import argparse\n",
    "import random\n",
    "import time\n",
    "import os\n",
    "import duckdb\n",
    "import matplotlib\n",
    "import seaborn as sns\n",
    "import matplotlib.pyplot as plt\n",
    "%matplotlib inline\n",
    "#import sys\n",
    "#sys.path.append(os.path.abspath(os.getcwd()+'/..'))\n",
    "\n",
    "from crptmidfreq.config_loc import get_data_db_folder\n",
    "from crptmidfreq.featurelib.lib_v1 import *\n",
    "from crptmidfreq.res.visualize_pairs.data_cleaning import get_pivoted_data\n",
    "\n",
    "plt.style.use('ggplot')\n",
    "\n",
    "\n",
    "g_folder = 'res_exploration_v1'"
   ]
  },
  {
   "cell_type": "code",
   "execution_count": null,
   "metadata": {},
   "outputs": [],
   "source": [
    "def analyze_pair(t1='BTCUSDT',t2='ETHUSDT'):\n",
    "    pdf = get_pivoted_data(tokens=[t1,t2])\n",
    "    corr = pdf[[t1,t2]].corr()\n",
    "    plt.figure()\n",
    "    pdf[[t1,t2]].fillna(0.0).cumsum().plot()\n",
    "    plt.figure()\n",
    "    pdf['r']=pdf[t1]-pdf[t2]\n",
    "    pdf[['r']].fillna(0.0).cumsum().plot(title='Spread ')\n",
    "    plt.figure()\n",
    "    sns.regplot(data=pdf[[t1,t2]].fillna(0.0),x=t1,y=t2)\n",
    "    print(f'Correl of {corr}')"
   ]
  },
  {
   "cell_type": "code",
   "execution_count": null,
   "metadata": {},
   "outputs": [],
   "source": [
    "analyze_pair(t1='BTCUSDT',t2='ETHUSDT')"
   ]
  },
  {
   "cell_type": "code",
   "execution_count": null,
   "metadata": {},
   "outputs": [],
   "source": [
    "analyze_pair(t1='COMBOUSDT',t2='ETHUSDT')"
   ]
  },
  {
   "cell_type": "code",
   "execution_count": null,
   "metadata": {},
   "outputs": [],
   "source": [
    "analyze_pair(t1='VVVUSDT',t2='ETHUSDT')\n"
   ]
  },
  {
   "cell_type": "code",
   "execution_count": null,
   "metadata": {},
   "outputs": [],
   "source": [
    "analyze_pair(t1='ARBUSDT',t2='ETHUSDT')\n"
   ]
  },
  {
   "cell_type": "code",
   "execution_count": null,
   "metadata": {},
   "outputs": [],
   "source": [
    "analyze_pair(t1='ADAUSDT',t2='ETHUSDT')"
   ]
  },
  {
   "cell_type": "code",
   "execution_count": null,
   "metadata": {},
   "outputs": [],
   "source": [
    "analyze_pair(t1='SOLUSDT',t2='ETHUSDT')"
   ]
  },
  {
   "cell_type": "code",
   "execution_count": null,
   "metadata": {},
   "outputs": [],
   "source": [
    "analyze_pair(t1='DEGOUSDT',t2='ETHUSDT')\n"
   ]
  },
  {
   "cell_type": "code",
   "execution_count": null,
   "metadata": {},
   "outputs": [],
   "source": [
    "analyze_pair(t1='BNBUSDT',t2='ETHUSDT')"
   ]
  },
  {
   "cell_type": "code",
   "execution_count": null,
   "metadata": {},
   "outputs": [],
   "source": [
    "analyze_pair(t1='BNBUSDT',t2='BNXUSDT')"
   ]
  },
  {
   "cell_type": "code",
   "execution_count": null,
   "metadata": {},
   "outputs": [],
   "source": []
  }
 ],
 "metadata": {
  "kernelspec": {
   "display_name": "base",
   "language": "python",
   "name": "python3"
  },
  "language_info": {
   "codemirror_mode": {
    "name": "ipython",
    "version": 3
   },
   "file_extension": ".py",
   "mimetype": "text/x-python",
   "name": "python",
   "nbconvert_exporter": "python",
   "pygments_lexer": "ipython3",
   "version": "3.11.10"
  }
 },
 "nbformat": 4,
 "nbformat_minor": 2
}
