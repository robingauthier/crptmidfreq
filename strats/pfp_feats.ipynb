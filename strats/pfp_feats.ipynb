{
 "cells": [
  {
   "cell_type": "code",
   "execution_count": null,
   "metadata": {},
   "outputs": [
    {
     "name": "stderr",
     "output_type": "stream",
     "text": [
      "/Users/sachadrevet/anaconda3/lib/python3.11/site-packages/pandas/core/arrays/masked.py:60: UserWarning: Pandas requires version '1.3.6' or newer of 'bottleneck' (version '1.3.5' currently installed).\n",
      "  from pandas.core import (\n"
     ]
    },
    {
     "ename": "SyntaxError",
     "evalue": "invalid syntax (lib_v1.py, line 294)",
     "output_type": "error",
     "traceback": [
      "Traceback \u001b[0;36m(most recent call last)\u001b[0m:\n",
      "  File \u001b[1;32m\"/Users/sachadrevet/anaconda3/lib/python3.11/site-packages/IPython/core/interactiveshell.py\"\u001b[0m, line \u001b[1;32m3553\u001b[0m, in \u001b[1;35mrun_code\u001b[0m\n    exec(code_obj, self.user_global_ns, self.user_ns)\n",
      "\u001b[0;36m  File \u001b[0;32m\"/var/folders/_d/pqz8hfr954b0f1k9_fgqhfc80000gn/T/ipykernel_36382/623336870.py\"\u001b[0;36m, line \u001b[0;32m17\u001b[0;36m, in \u001b[0;35m<cell line: 0>\u001b[0;36m\u001b[0m\n\u001b[0;31m    from crptmidfreq.featurelib.lib_v1 import *\u001b[0m\n",
      "\u001b[0;36m  File \u001b[0;32m\"/Users/sachadrevet/src/crptmidfreq/featurelib/lib_v1.py\"\u001b[0;36m, line \u001b[0;32m294\u001b[0m\n\u001b[0;31m    def perform_ewm_scaled(featd, , feats=[], windows=[1], folder=None, name=None, r=g_reg):\u001b[0m\n\u001b[0m                                  ^\u001b[0m\n\u001b[0;31mSyntaxError\u001b[0m\u001b[0;31m:\u001b[0m invalid syntax\n"
     ]
    }
   ],
   "source": [
    "import pandas as pd\n",
    "import argparse\n",
    "import random\n",
    "import time\n",
    "import os\n",
    "import duckdb\n",
    "import matplotlib\n",
    "import seaborn as sns\n",
    "import matplotlib.pyplot as plt\n",
    "from scipy.cluster.hierarchy import linkage, dendrogram, leaves_list\n",
    "from sklearn.cluster import KMeans\n",
    "%matplotlib inline\n",
    "\n",
    "\n",
    "import sys\n",
    "sys.path.append(os.path.abspath(os.getcwd()+'/..'))\n",
    "\n",
    "from crptmidfreq.config_loc import *\n",
    "from crptmidfreq.featurelib.lib_v1 import *\n",
    "from crptmidfreq.strats import *\n",
    "\n",
    "plt.style.use('ggplot')\n",
    "\n",
    "\n",
    "g_folder = 'res_exploration_v1'"
   ]
  },
  {
   "cell_type": "code",
   "execution_count": null,
   "metadata": {},
   "outputs": [],
   "source": [
    "featd=prepare_klines(start_date='2025-03-01',\n",
    "                   end_date='2026-01-01',\n",
    "                   window_volume_wgt=60*24*30,\n",
    "                   tokens='all',  # tokens=['BTCUSDT', 'ETHUSDT']\n",
    "                   folder=None,\n",
    "                   name=None,\n",
    "                   r=None,  # stepper registry\n",
    "                   )"
   ]
  },
  {
   "cell_type": "code",
   "execution_count": null,
   "metadata": {},
   "outputs": [],
   "source": [
    "perform_pfp(featd, feats=[], nbrevs=[1], ticks=[3.0], debug=False, folder=None, name=None,r=g_r)"
   ]
  }
 ],
 "metadata": {
  "kernelspec": {
   "display_name": "base",
   "language": "python",
   "name": "python3"
  },
  "language_info": {
   "codemirror_mode": {
    "name": "ipython",
    "version": 3
   },
   "file_extension": ".py",
   "mimetype": "text/x-python",
   "name": "python",
   "nbconvert_exporter": "python",
   "pygments_lexer": "ipython3",
   "version": "3.11.10"
  }
 },
 "nbformat": 4,
 "nbformat_minor": 2
}
